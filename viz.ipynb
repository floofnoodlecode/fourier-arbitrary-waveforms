{
 "cells": [
  {
   "cell_type": "code",
   "execution_count": 1,
   "id": "6ea6c495",
   "metadata": {},
   "outputs": [],
   "source": [
    "from functools import partial\n",
    "import os\n",
    "import pickle\n",
    "\n",
    "from IPython.display import HTML, display\n",
    "from matplotlib import pyplot as plt, rcParams\n",
    "from matplotlib.animation import FuncAnimation\n",
    "import numpy as np\n",
    "from tqdm.notebook import tqdm\n",
    "\n",
    "rcParams['animation.embed_limit'] = 1000\n",
    "rcParams['axes.titlesize'] = 'xx-large'\n",
    "\n",
    "VID_DIR = 'videos'\n",
    "\n",
    "if not os.path.exists(VID_DIR):\n",
    "    os.makedirs(VID_DIR)"
   ]
  },
  {
   "cell_type": "markdown",
   "id": "85a93daf",
   "metadata": {},
   "source": [
    "# Setup - Complex periodic waveforms"
   ]
  },
  {
   "cell_type": "code",
   "execution_count": 2,
   "id": "6cb00968",
   "metadata": {},
   "outputs": [],
   "source": [
    "def circle(N):\n",
    "    \"\"\"Complex sinusoid\"\"\"\n",
    "    return np.exp(2j*np.pi * np.linspace(0, 1, N, endpoint=False))\n",
    "\n",
    "def dots4(N):\n",
    "    \"\"\"Complex square wave\"\"\"\n",
    "    sqw = np.array([1 + 1j, -1 + 1j, -1 - 1j, 1 - 1j])\n",
    "    return sqw[np.linspace(0, 4, N, endpoint=False).astype(int)]\n",
    "\n",
    "def diamond(N):\n",
    "    \"\"\"Complex triangle wave\"\"\"\n",
    "    def triangle(phase):\n",
    "        return 4 * np.abs(((np.linspace(0, 1, N, endpoint=False) + phase - 1/4) % 1) - 1/2) - 1\n",
    "    return triangle(0.25) + 1j * triangle(0)\n",
    "\n",
    "def epicycloid(N, R, r):\n",
    "    t = np.linspace(0, 2*np.pi, N, endpoint=False)\n",
    "    x = (R + r)*np.cos(t) - r*np.cos((R + r)/r * t)\n",
    "    y = (R + r)*np.sin(t) - r*np.sin((R + r)/r * t)\n",
    "    return x + 1j * y\n",
    "\n",
    "def hypocycloid(N, R, r):\n",
    "    t = np.linspace(0, 2*np.pi, N, endpoint=False)\n",
    "    x = (R - r)*np.cos(t) + r*np.cos((R - r)/r * t)\n",
    "    y = (R - r)*np.sin(t) - r*np.sin((R - r)/r * t)\n",
    "    return x + 1j * y\n",
    "\n",
    "def heart(N):\n",
    "    t = -np.linspace(0, 2*np.pi, N, endpoint=False)\n",
    "    x = 16 * np.sin(t) ** 3\n",
    "    y = 13 * np.cos(t) - 5 * np.cos(2*t) - 2 * np.cos(3*t) - np.cos(4*t)\n",
    "    return x + 1j * y\n",
    "\n",
    "def butterfly(N):\n",
    "    t = -np.linspace(0, 2*np.pi, N, endpoint=False)\n",
    "    x = np.sin(t) * (np.exp(np.cos(t)) - 2*np.cos(4*t) - np.sin(t/12)**5)\n",
    "    y = np.cos(t) * (np.exp(np.cos(t)) - 2*np.cos(4*t) - np.sin(t/12)**5)\n",
    "    return x + 1j*y\n",
    "\n",
    "# The following waveforms were obtained from bitmap images using the same technique I described in:\n",
    "# https://gitlab.com/floofnoodlecode/badapple-fourier\n",
    "\n",
    "def load_contour(filename, N):\n",
    "    with open(filename, 'rb') as f:\n",
    "        x = pickle.load(f).conjugate()\n",
    "        x = np.append(x, x[0])\n",
    "        x = np.interp(np.linspace(0, 1, N, endpoint=False), np.linspace(0, 1, len(x), endpoint=False), x)\n",
    "        return x - x.mean()\n",
    "\n",
    "def batman(N):\n",
    "    return load_contour('batman.pkl', N)\n",
    "\n",
    "def mandelbrot(N):\n",
    "    return load_contour('mandelbrot.pkl', N)\n",
    "\n",
    "def touhou(N):\n",
    "    return load_contour('touhou.pkl', N)"
   ]
  },
  {
   "cell_type": "code",
   "execution_count": 3,
   "id": "e6c96f72",
   "metadata": {},
   "outputs": [],
   "source": [
    "def animate_wave(wave, res=150, fps=30, title=None, figsize=(6.4,5.4)):\n",
    "    plt.ioff()\n",
    "    fig, ax = plt.subplots(figsize=figsize)\n",
    "    if title:\n",
    "        plt.title(title)\n",
    "    plt.tight_layout()\n",
    "    \n",
    "    tmp = np.append(wave, wave[0])\n",
    "    plt.plot(tmp.real, tmp.imag, '-o')\n",
    "    plt.grid()\n",
    "    \n",
    "    wave = np.interp(np.linspace(0, 1, res), np.linspace(0, 1, len(wave)), wave)\n",
    "    dot, = plt.plot(wave[0].real, wave[0].imag, 'o', markersize=15)\n",
    "    vln, = plt.plot([0, wave[0].real], [0, wave[0].imag], '-o', color='tab:red')\n",
    "    plt.axis('equal')\n",
    "    \n",
    "    pbar = tqdm(total=len(wave), desc=title)\n",
    "    def update(frame):\n",
    "        pbar.update()\n",
    "        if frame == len(wave) - 1:\n",
    "            pbar.close()\n",
    "        \n",
    "        vln.set_data([0, wave[frame].real], [0, wave[frame].imag])\n",
    "        dot.set_data(wave[frame].real, wave[frame].imag)\n",
    "        return vln, dot\n",
    "        \n",
    "    anim = FuncAnimation(fig, update, frames=len(wave), interval=1000/fps, init_func=lambda:[])\n",
    "    plt.close()\n",
    "    plt.ion()\n",
    "    return anim"
   ]
  },
  {
   "cell_type": "code",
   "execution_count": 5,
   "id": "f1c26872",
   "metadata": {
    "scrolled": false
   },
   "outputs": [
    {
     "data": {
      "application/vnd.jupyter.widget-view+json": {
       "model_id": "40eeff6405384bfb95f30e6fa327392f",
       "version_major": 2,
       "version_minor": 0
      },
      "text/plain": [
       "Sinusoid:   0%|          | 0/150 [00:00<?, ?it/s]"
      ]
     },
     "metadata": {},
     "output_type": "display_data"
    },
    {
     "data": {
      "application/vnd.jupyter.widget-view+json": {
       "model_id": "33f60e362ff949de922516e51b31ac9b",
       "version_major": 2,
       "version_minor": 0
      },
      "text/plain": [
       "Squarewave:   0%|          | 0/150 [00:00<?, ?it/s]"
      ]
     },
     "metadata": {},
     "output_type": "display_data"
    },
    {
     "data": {
      "application/vnd.jupyter.widget-view+json": {
       "model_id": "a9241a949e8740988940e62f7145d3a4",
       "version_major": 2,
       "version_minor": 0
      },
      "text/plain": [
       "Deltoid:   0%|          | 0/150 [00:00<?, ?it/s]"
      ]
     },
     "metadata": {},
     "output_type": "display_data"
    },
    {
     "data": {
      "application/vnd.jupyter.widget-view+json": {
       "model_id": "41e0a69e06574207af86cb1847b00ca9",
       "version_major": 2,
       "version_minor": 0
      },
      "text/plain": [
       "Heart:   0%|          | 0/150 [00:00<?, ?it/s]"
      ]
     },
     "metadata": {},
     "output_type": "display_data"
    },
    {
     "data": {
      "application/vnd.jupyter.widget-view+json": {
       "model_id": "52ba863e1513441b8b445225184c34c3",
       "version_major": 2,
       "version_minor": 0
      },
      "text/plain": [
       "Butterfly:   0%|          | 0/150 [00:00<?, ?it/s]"
      ]
     },
     "metadata": {},
     "output_type": "display_data"
    },
    {
     "data": {
      "application/vnd.jupyter.widget-view+json": {
       "model_id": "55fec856974f4a93871e3713feb0087b",
       "version_major": 2,
       "version_minor": 0
      },
      "text/plain": [
       "Batman:   0%|          | 0/150 [00:00<?, ?it/s]"
      ]
     },
     "metadata": {},
     "output_type": "display_data"
    },
    {
     "data": {
      "application/vnd.jupyter.widget-view+json": {
       "model_id": "b8b46adc0b1a42f6b84d9f04a387ff25",
       "version_major": 2,
       "version_minor": 0
      },
      "text/plain": [
       "Mandelbrot:   0%|          | 0/150 [00:00<?, ?it/s]"
      ]
     },
     "metadata": {},
     "output_type": "display_data"
    },
    {
     "data": {
      "application/vnd.jupyter.widget-view+json": {
       "model_id": "91a2edf801174ad8bd49f1f783847088",
       "version_major": 2,
       "version_minor": 0
      },
      "text/plain": [
       "Touhou:   0%|          | 0/150 [00:00<?, ?it/s]"
      ]
     },
     "metadata": {},
     "output_type": "display_data"
    }
   ],
   "source": [
    "%matplotlib notebook\n",
    "\n",
    "# Show the waveforms\n",
    "wave_funcs = [\n",
    "    (circle, 'Sinusoid'),\n",
    "    (dots4, 'Squarewave'),\n",
    "    (partial(hypocycloid, R=3, r=1), 'Deltoid'),\n",
    "    (heart, 'Heart'),\n",
    "    (butterfly, 'Butterfly'),\n",
    "    (batman, 'Batman'),\n",
    "    (mandelbrot, 'Mandelbrot')\n",
    "]\n",
    "\n",
    "for f, title in wave_funcs + [(touhou, 'Touhou')]:\n",
    "    anim = animate_wave(f(1024), title=title, figsize=(19.2, 10.8))\n",
    "    anim.save(f'{VID_DIR}/wave_{title}.mp4')  # Save animation to disk.\n",
    "    # Display animation in notebook. Commented because too many of these animations cause lag\n",
    "#     display(HTML(anim.to_jshtml()))"
   ]
  },
  {
   "cell_type": "markdown",
   "id": "ff97ad92",
   "metadata": {},
   "source": [
    "# Fourier Transform with arbitrary basis\n",
    "\n",
    "Let's say we have a signal $ x $ with samples $ x_0, \\ldots, x_{N-1} \\in \\mathbb{C} $. The Discrete Time Fourier Transform (DTFT) finds coefficients $ X_k $ such that:\n",
    "$$ x_n = \\frac1N\\sum_{k=0}^{N-1} X_k e^{i2\\pi kn/N} \\quad  n=0, \\ldots, N-1 $$\n",
    "\n",
    "\n",
    "We want to replace $ e^{i2\\pi kn/N} $ with an arbitrary function $ y $ with samples $ y_0, \\ldots, y_{N-1} \\in \\mathbb{C} $. Therefore, we now want to find $ X_k $ with the property: \n",
    "$$ x_n = \\frac1N\\sum_{k=0}^{N-1} X_k y_{(kn\\bmod{N})} \\quad  n=0, \\ldots, N-1 $$\n",
    "\n",
    "This can be written as a system of linear equations:\n",
    "$$\n",
    "\\frac1N\n",
    "\\begin{bmatrix}\n",
    "y_0 & y_0 & \\cdots & y_0 & y_0 \\\\\n",
    "y_0 & y_1 & \\cdots & y_{N-2} & y_{N-1} \\\\\n",
    "\\vdots & \\vdots & \\ddots & \\vdots & \\vdots \\\\\n",
    "y_0 & y_k & \\cdots & y_{(k(N-2)\\bmod N)} & y_{(k(N-1)\\bmod N)} \\\\\n",
    "\\vdots & \\vdots & \\ddots & \\vdots & \\vdots \\\\\n",
    "y_0 & y_{N-1} & \\cdots & y_2 & y_1\n",
    "\\end{bmatrix}\n",
    "\\begin{bmatrix}\n",
    "X_0\\\\\n",
    "\\vdots \\\\\n",
    "\\vdots \\\\\n",
    "\\vdots \\\\\n",
    "X_{N-1}\n",
    "\\end{bmatrix}\n",
    "=\n",
    "\\begin{bmatrix}\n",
    "x_0\\\\\n",
    "\\vdots \\\\\n",
    "\\vdots \\\\\n",
    "\\vdots \\\\\n",
    "x_{n-1}\n",
    "\\end{bmatrix}\n",
    "$$\n",
    "\n",
    "The system, written as $ \\boldsymbol{x} = \\frac1N A\\boldsymbol{c} $ can then be solved by inverting the matrix: \n",
    "$ \\boldsymbol{c}=NA^{-1}\\boldsymbol{x} $\n",
    ", assuming $ A $ is actually invertible, which is not true for arbitrary functions $ y $."
   ]
  },
  {
   "cell_type": "markdown",
   "id": "2e23cc8a",
   "metadata": {},
   "source": [
    "## Setup some functions"
   ]
  },
  {
   "cell_type": "code",
   "execution_count": 6,
   "id": "0b6c619f",
   "metadata": {},
   "outputs": [],
   "source": [
    "def harmonic(y, k):\n",
    "    \"\"\"Helper function to return signal `y` sampled with frequency `k`\"\"\"\n",
    "    N = len(y)\n",
    "    return y[np.arange(N) * k % N]\n",
    "\n",
    "def dtft(x, y):\n",
    "    \"\"\"\n",
    "    Compute the frequency coefficients\n",
    "    \n",
    "    :param x: Signal `x` to decompose\n",
    "    :param y: Basis signal `y`\n",
    "    :return: Coefficients `c`\n",
    "    \"\"\"\n",
    "    y = y / len(y)\n",
    "    A = np.stack([harmonic(y, k) for k in range(len(y))])\n",
    "    return np.linalg.solve(A, x)\n",
    "\n",
    "def idtft(c, y):\n",
    "    \"\"\"\n",
    "    Restore signal from frequency coefficients.\n",
    "    Returns the cumulative sum with coefficients sorted by amplitude and excluding the DC component.\n",
    "    Useful for animations.\n",
    "    \n",
    "    :param c: Coefficients\n",
    "    :param y: Base signal `y` used to decompose `x`\n",
    "    :return: ndarray of size (N, N) where each i-th row is computed using the highest i coefficients\n",
    "    \"\"\"    \n",
    "    N = len(y)\n",
    "    cidxs = np.argsort(np.abs(c[1:]))[::-1] + 1\n",
    "    ix = np.cumsum([c[0] * harmonic(y,0)] + [c[k] * harmonic(y, k) for k in cidxs], axis=0)\n",
    "    ix = ix[1:] / N\n",
    "    return ix, cidxs"
   ]
  },
  {
   "cell_type": "markdown",
   "id": "b8c6cf91",
   "metadata": {},
   "source": [
    "## Sanity check\n",
    "If $ y = e^{i2\\pi kn/N} $ then the coefficients should be equal to the ones obtained by the DTFT."
   ]
  },
  {
   "cell_type": "code",
   "execution_count": 7,
   "id": "3bc33872",
   "metadata": {},
   "outputs": [
    {
     "data": {
      "text/plain": [
       "Text(0.5, 1.0, 'Error = 8e-10. Close enough')"
      ]
     },
     "execution_count": 7,
     "metadata": {},
     "output_type": "execute_result"
    },
    {
     "data": {
      "image/png": "[encoded data removed]",
      "text/plain": [
       "<Figure size 432x288 with 1 Axes>"
      ]
     },
     "metadata": {
      "needs_background": "light"
     },
     "output_type": "display_data"
    }
   ],
   "source": [
    "%matplotlib inline\n",
    "\n",
    "N = 1024\n",
    "x = touhou(N)\n",
    "X = np.fft.fft(x)\n",
    "\n",
    "y = circle(N)\n",
    "c = dtft(x, y)\n",
    "\n",
    "plt.stem(np.abs(c - X))\n",
    "plt.title('Error = 8e-10. Close enough')"
   ]
  },
  {
   "cell_type": "markdown",
   "id": "c8112d76",
   "metadata": {},
   "source": [
    "## Not all waveforms produce an invertible matrix\n",
    "For the butterfly waveform, $ \\det A \\approx 0 $, so this waveform doesn't work. We can see that the coefficients have high values all accross the spectrum.\n",
    "\n",
    "Unfortunately, I don't know of a way to tell at a glance whether a waveform will produce an invertible matrix or not. \n",
    "* My intuition is that it has something to do with how many times the function rotates around the origin, which is why I picked the other signals to only make one revolution. \n",
    "* I also know that the average of the samples should be 0 (this one I can prove). \n",
    "\n",
    "If you know the answer to this, along with a nice proof, please let me know."
   ]
  },
  {
   "cell_type": "code",
   "execution_count": 8,
   "id": "305f1d5b",
   "metadata": {},
   "outputs": [
    {
     "data": {
      "image/png": "[encoded data removed]",
      "text/plain": [
       "<Figure size 432x288 with 1 Axes>"
      ]
     },
     "metadata": {
      "needs_background": "light"
     },
     "output_type": "display_data"
    },
    {
     "data": {
      "image/png": "[encoded data removed]",
      "text/plain": [
       "<Figure size 432x288 with 1 Axes>"
      ]
     },
     "metadata": {
      "needs_background": "light"
     },
     "output_type": "display_data"
    },
    {
     "name": "stdout",
     "output_type": "stream",
     "text": [
      "det(A) = 0j\n"
     ]
    }
   ],
   "source": [
    "y = butterfly(N)\n",
    "\n",
    "plt.plot(y.real, y.imag, '-o')\n",
    "plt.axis('square')\n",
    "plt.title('Butterfly')\n",
    "plt.show()\n",
    "\n",
    "c = dtft(x, y)\n",
    "plt.figure()\n",
    "plt.stem(np.abs(c))\n",
    "plt.yscale('log')\n",
    "plt.title('Coefficients')\n",
    "plt.show()\n",
    "\n",
    "# Check the matrix determinant\n",
    "A = np.stack([harmonic(y / len(y), k) for k in range(len(y))])\n",
    "print('det(A) =', np.linalg.det(A))"
   ]
  },
  {
   "cell_type": "markdown",
   "id": "f2c9289e",
   "metadata": {},
   "source": [
    "# Let's see how the signal changes as we add more frequencies "
   ]
  },
  {
   "cell_type": "code",
   "execution_count": 9,
   "id": "c201604a",
   "metadata": {},
   "outputs": [],
   "source": [
    "def animate_progression(ix, fps=30, title=None, figsize=(6.4,5.4)):\n",
    "    plt.ioff()\n",
    "    fig, ax = plt.subplots(figsize=figsize)\n",
    "    if title:\n",
    "        plt.title(title)\n",
    "    plt.axis('off')\n",
    "    plt.axis('equal')\n",
    "    plt.tight_layout()\n",
    "    \n",
    "    ix = np.append(ix, ix[:,0,None], axis=1)\n",
    "    N = len(ix)\n",
    "    pbar = tqdm(total=N, desc=title)\n",
    "    \n",
    "    ln, = plt.plot([ix.real.min(), ix.real.max()], [ix.imag.min(), ix.imag.max()], '-o')\n",
    "\n",
    "    def update(i):\n",
    "        ln.set_data(ix[i].real, ix[i].imag)\n",
    "        \n",
    "        pbar.update()\n",
    "        if i == N-1:\n",
    "            pbar.close()\n",
    "        return [ln]\n",
    "\n",
    "    anim = FuncAnimation(fig, update, frames=len(ix), interval=1000/fps, init_func=lambda:[])\n",
    "    plt.close()\n",
    "    plt.ion()\n",
    "    return anim"
   ]
  },
  {
   "cell_type": "markdown",
   "id": "1ae2d0d1",
   "metadata": {},
   "source": [
    "## Reconstructing a complex signal"
   ]
  },
  {
   "cell_type": "code",
   "execution_count": 10,
   "id": "f07be70b",
   "metadata": {
    "scrolled": false
   },
   "outputs": [
    {
     "data": {
      "application/vnd.jupyter.widget-view+json": {
       "model_id": "ecd2368ac0534fd3b5e635e1f31d1840",
       "version_major": 2,
       "version_minor": 0
      },
      "text/plain": [
       "Sinusoid:   0%|          | 0/1023 [00:00<?, ?it/s]"
      ]
     },
     "metadata": {},
     "output_type": "display_data"
    },
    {
     "data": {
      "application/vnd.jupyter.widget-view+json": {
       "model_id": "4a2fa71803a54ea09623841124b3287e",
       "version_major": 2,
       "version_minor": 0
      },
      "text/plain": [
       "Squarewave:   0%|          | 0/1023 [00:00<?, ?it/s]"
      ]
     },
     "metadata": {},
     "output_type": "display_data"
    },
    {
     "data": {
      "application/vnd.jupyter.widget-view+json": {
       "model_id": "4dce268900384bbd9e5dfa4d0c3c0184",
       "version_major": 2,
       "version_minor": 0
      },
      "text/plain": [
       "Deltoid:   0%|          | 0/1023 [00:00<?, ?it/s]"
      ]
     },
     "metadata": {},
     "output_type": "display_data"
    },
    {
     "data": {
      "application/vnd.jupyter.widget-view+json": {
       "model_id": "25c04a9047a04e878b4a3f9608d5a6a5",
       "version_major": 2,
       "version_minor": 0
      },
      "text/plain": [
       "Heart:   0%|          | 0/1023 [00:00<?, ?it/s]"
      ]
     },
     "metadata": {},
     "output_type": "display_data"
    },
    {
     "data": {
      "application/vnd.jupyter.widget-view+json": {
       "model_id": "03d08f11167746f2913a3d707f6c9d91",
       "version_major": 2,
       "version_minor": 0
      },
      "text/plain": [
       "Butterfly:   0%|          | 0/1023 [00:00<?, ?it/s]"
      ]
     },
     "metadata": {},
     "output_type": "display_data"
    },
    {
     "data": {
      "application/vnd.jupyter.widget-view+json": {
       "model_id": "bbe474ae2c1c479494631b36288be1d6",
       "version_major": 2,
       "version_minor": 0
      },
      "text/plain": [
       "Batman:   0%|          | 0/1023 [00:00<?, ?it/s]"
      ]
     },
     "metadata": {},
     "output_type": "display_data"
    },
    {
     "data": {
      "application/vnd.jupyter.widget-view+json": {
       "model_id": "ff80b73109db48248138952bedc16779",
       "version_major": 2,
       "version_minor": 0
      },
      "text/plain": [
       "Mandelbrot:   0%|          | 0/1023 [00:00<?, ?it/s]"
      ]
     },
     "metadata": {},
     "output_type": "display_data"
    }
   ],
   "source": [
    "%matplotlib notebook\n",
    "\n",
    "N = 1024\n",
    "x = touhou(N)\n",
    "for wavef, title in wave_funcs:   \n",
    "    y = wavef(N)\n",
    "    c = dtft(x, y)\n",
    "    ix, _ = idtft(c, y)\n",
    "    anim = animate_progression(ix, title=title)\n",
    "    anim.save(f'{VID_DIR}/progression_{title}.mp4')  # Save animation to disk.\n",
    "    # Display animation in notebook. Commented because too many of these animations cause lag\n",
    "#     display(HTML(anim.to_jshtml()))"
   ]
  },
  {
   "cell_type": "markdown",
   "id": "6348ccfb",
   "metadata": {},
   "source": [
    "# Animate components"
   ]
  },
  {
   "cell_type": "code",
   "execution_count": 11,
   "id": "31b92166",
   "metadata": {},
   "outputs": [],
   "source": [
    "def animate_components(ix, y, c, cidxs, Nfreq, fps=30, title=None, zoom=None, figsize=(6.4,5.4)):\n",
    "    plt.ioff()\n",
    "    fig, ax = plt.subplots(figsize=figsize)\n",
    "    if title or True:\n",
    "        plt.title(title)\n",
    "    plt.axis('off')\n",
    "    plt.axis('equal')\n",
    "    plt.tight_layout()\n",
    "    \n",
    "    N = len(c)\n",
    "    c /= N\n",
    "    ys = np.array([harmonic(y, k) * c[k] for k in range(N)])\n",
    "    ys = np.append(ys, ys[:,0,None], axis=1)\n",
    "    ix = np.append(ix, ix[:,0,None], axis=1)\n",
    "    ix = np.insert(ix, 0, ys[0], axis=0)\n",
    "    cidxs = np.insert(cidxs, 0, 0)\n",
    "    \n",
    "    ln, = plt.plot(ix[Nfreq].real, ix[Nfreq].imag, '-o')\n",
    "    dot, = plt.plot([ix.real.min(), ix.real.max()], [ix.imag.min(), ix.imag.max()], 'o', markersize=15, zorder=2.1)\n",
    "    \n",
    "    glns = []\n",
    "    for i in range(1, Nfreq+1):\n",
    "        y = ys[cidxs[i]] + ix[i-1, 0]\n",
    "        gln, = plt.plot(y.real, y.imag, color='tab:green')\n",
    "        glns.append(gln)\n",
    "        \n",
    "    vln, = plt.plot(ix[:Nfreq+1, 0].real, ix[:Nfreq+1, 0].imag, '-o', color='tab:red', zorder=2.2)\n",
    "    \n",
    "    if zoom is not None:\n",
    "        xmin, xmax, ymin, ymax = plt.axis()\n",
    "        xr = (xmax - xmin) / 2 / zoom\n",
    "        yr = (ymax - ymin) / 2 / zoom\n",
    "        \n",
    "    pbar = tqdm(total=N, desc=title)\n",
    "    def update(i):\n",
    "        pbar.update()\n",
    "        if i == N-1:\n",
    "            pbar.close()\n",
    "            \n",
    "        dot.set_data(ix[Nfreq,i].real, ix[Nfreq,i].imag)\n",
    "        for j in range(1, Nfreq+1):\n",
    "            y = ys[cidxs[j]] + ix[j-1,i]\n",
    "            glns[j-1].set_data(y.real, y.imag)\n",
    "            \n",
    "        vln.set_data(ix[:Nfreq+1, i].real, ix[:Nfreq+1, i].imag)\n",
    "        \n",
    "        if zoom is not None:\n",
    "            c = ix[Nfreq, i]\n",
    "            ax.set_xlim(c.real - xr, c.real + xr)\n",
    "            ax.set_ylim(c.imag - yr, c.imag + yr)\n",
    "        \n",
    "        return dot, glns, vln\n",
    "    \n",
    "    anim = FuncAnimation(fig, update, frames=N, interval=1000/fps, init_func=lambda:[])\n",
    "    plt.close()\n",
    "    plt.ion()\n",
    "    return anim"
   ]
  },
  {
   "cell_type": "markdown",
   "id": "659ea00a",
   "metadata": {},
   "source": [
    "## Drawing with circles (the normal Fourier Transform)"
   ]
  },
  {
   "cell_type": "code",
   "execution_count": 13,
   "id": "b374d749",
   "metadata": {
    "scrolled": true
   },
   "outputs": [
    {
     "data": {
      "application/vnd.jupyter.widget-view+json": {
       "model_id": "5da411de91384ee19fbe5a91ceddd022",
       "version_major": 2,
       "version_minor": 0
      },
      "text/plain": [
       "Sinusoid:   0%|          | 0/1024 [00:00<?, ?it/s]"
      ]
     },
     "metadata": {},
     "output_type": "display_data"
    },
    {
     "data": {
      "application/vnd.jupyter.widget-view+json": {
       "model_id": "c08aa94d0b314796be6be047e5bb0d07",
       "version_major": 2,
       "version_minor": 0
      },
      "text/plain": [
       "Squarewave:   0%|          | 0/1024 [00:00<?, ?it/s]"
      ]
     },
     "metadata": {},
     "output_type": "display_data"
    },
    {
     "data": {
      "application/vnd.jupyter.widget-view+json": {
       "model_id": "aacf3ef7179e4dcab6660e696a9e179d",
       "version_major": 2,
       "version_minor": 0
      },
      "text/plain": [
       "Deltoid:   0%|          | 0/1024 [00:00<?, ?it/s]"
      ]
     },
     "metadata": {},
     "output_type": "display_data"
    },
    {
     "data": {
      "application/vnd.jupyter.widget-view+json": {
       "model_id": "7a3ad0bc3810457a956a8979a4007a5b",
       "version_major": 2,
       "version_minor": 0
      },
      "text/plain": [
       "Heart:   0%|          | 0/1024 [00:00<?, ?it/s]"
      ]
     },
     "metadata": {},
     "output_type": "display_data"
    },
    {
     "data": {
      "application/vnd.jupyter.widget-view+json": {
       "model_id": "a7c455227d3a40698bfd09486ee92741",
       "version_major": 2,
       "version_minor": 0
      },
      "text/plain": [
       "Butterfly:   0%|          | 0/1024 [00:00<?, ?it/s]"
      ]
     },
     "metadata": {},
     "output_type": "display_data"
    },
    {
     "data": {
      "application/vnd.jupyter.widget-view+json": {
       "model_id": "07ede734836a434cb5a4aa5cbb1a3961",
       "version_major": 2,
       "version_minor": 0
      },
      "text/plain": [
       "Batman:   0%|          | 0/1024 [00:00<?, ?it/s]"
      ]
     },
     "metadata": {},
     "output_type": "display_data"
    },
    {
     "data": {
      "application/vnd.jupyter.widget-view+json": {
       "model_id": "3ace35c42b6a4601996872bf3705bebf",
       "version_major": 2,
       "version_minor": 0
      },
      "text/plain": [
       "Mandelbrot:   0%|          | 0/1024 [00:00<?, ?it/s]"
      ]
     },
     "metadata": {},
     "output_type": "display_data"
    }
   ],
   "source": [
    "%matplotlib notebook\n",
    "\n",
    "N = 1024\n",
    "FREQS = 10\n",
    "y = circle(N)\n",
    "for wavef, title in wave_funcs: \n",
    "    x = wavef(N)\n",
    "    c = dtft(x, y)\n",
    "    ix, cidxs = idtft(c, y)\n",
    "    anim = animate_components(ix, y, c, cidxs, FREQS, title=title)\n",
    "    anim.save(f'{VID_DIR}/circle_components={FREQS}_{title}.mp4')  # Save animation to disk.\n",
    "    # Display animation in notebook. Commented because too many of these animations cause lag\n",
    "#     display(HTML(anim.to_jshtml()))"
   ]
  },
  {
   "cell_type": "markdown",
   "id": "24f35e52",
   "metadata": {},
   "source": [
    "## Drawing a circle"
   ]
  },
  {
   "cell_type": "code",
   "execution_count": 14,
   "id": "755d8f88",
   "metadata": {
    "scrolled": true
   },
   "outputs": [
    {
     "data": {
      "application/vnd.jupyter.widget-view+json": {
       "model_id": "b43d76e834c14dbe8f75582fddd928c9",
       "version_major": 2,
       "version_minor": 0
      },
      "text/plain": [
       "Sinusoid:   0%|          | 0/1024 [00:00<?, ?it/s]"
      ]
     },
     "metadata": {},
     "output_type": "display_data"
    },
    {
     "data": {
      "application/vnd.jupyter.widget-view+json": {
       "model_id": "481f0cac59b843bb947c777d302777e3",
       "version_major": 2,
       "version_minor": 0
      },
      "text/plain": [
       "Squarewave:   0%|          | 0/1024 [00:00<?, ?it/s]"
      ]
     },
     "metadata": {},
     "output_type": "display_data"
    },
    {
     "data": {
      "application/vnd.jupyter.widget-view+json": {
       "model_id": "f06d10d076c1405db14c704562760647",
       "version_major": 2,
       "version_minor": 0
      },
      "text/plain": [
       "Deltoid:   0%|          | 0/1024 [00:00<?, ?it/s]"
      ]
     },
     "metadata": {},
     "output_type": "display_data"
    },
    {
     "data": {
      "application/vnd.jupyter.widget-view+json": {
       "model_id": "497d4f518066482ea083a1e0f3e570e5",
       "version_major": 2,
       "version_minor": 0
      },
      "text/plain": [
       "Heart:   0%|          | 0/1024 [00:00<?, ?it/s]"
      ]
     },
     "metadata": {},
     "output_type": "display_data"
    },
    {
     "data": {
      "application/vnd.jupyter.widget-view+json": {
       "model_id": "bc780945d84e47b9897be402169f26ca",
       "version_major": 2,
       "version_minor": 0
      },
      "text/plain": [
       "Butterfly:   0%|          | 0/1024 [00:00<?, ?it/s]"
      ]
     },
     "metadata": {},
     "output_type": "display_data"
    },
    {
     "data": {
      "application/vnd.jupyter.widget-view+json": {
       "model_id": "26a04b81ac634324af386ca2aacdadd4",
       "version_major": 2,
       "version_minor": 0
      },
      "text/plain": [
       "Batman:   0%|          | 0/1024 [00:00<?, ?it/s]"
      ]
     },
     "metadata": {},
     "output_type": "display_data"
    },
    {
     "data": {
      "application/vnd.jupyter.widget-view+json": {
       "model_id": "f0f93e8ae03448cc863ae823d9d513e7",
       "version_major": 2,
       "version_minor": 0
      },
      "text/plain": [
       "Mandelbrot:   0%|          | 0/1024 [00:00<?, ?it/s]"
      ]
     },
     "metadata": {},
     "output_type": "display_data"
    }
   ],
   "source": [
    "N = 1024\n",
    "FREQS = 10\n",
    "x = circle(N)\n",
    "for wavef, title in wave_funcs:\n",
    "    y = wavef(N)\n",
    "    c = dtft(x, y)\n",
    "    ix, cidxs = idtft(c, y)\n",
    "    anim = animate_components(ix, y, c, cidxs, FREQS, title=title)\n",
    "    anim.save(f'{VID_DIR}/components={FREQS}_circle_{title}.mp4')  # Save animation to disk.\n",
    "    # Display animation in notebook. Commented because too many of these animations cause lag\n",
    "#     display(HTML(anim.to_jshtml()))"
   ]
  },
  {
   "cell_type": "markdown",
   "id": "d6df5770",
   "metadata": {},
   "source": [
    "## Drawing a complex function"
   ]
  },
  {
   "cell_type": "code",
   "execution_count": 15,
   "id": "71ef6ebe",
   "metadata": {
    "scrolled": false
   },
   "outputs": [
    {
     "data": {
      "application/vnd.jupyter.widget-view+json": {
       "model_id": "830cacd82dd148aa99704afe518d7fa7",
       "version_major": 2,
       "version_minor": 0
      },
      "text/plain": [
       "Sinusoid:   0%|          | 0/1024 [00:00<?, ?it/s]"
      ]
     },
     "metadata": {},
     "output_type": "display_data"
    },
    {
     "data": {
      "application/vnd.jupyter.widget-view+json": {
       "model_id": "e2bc8821d3eb4446970d5cf760f509bb",
       "version_major": 2,
       "version_minor": 0
      },
      "text/plain": [
       "Squarewave:   0%|          | 0/1024 [00:00<?, ?it/s]"
      ]
     },
     "metadata": {},
     "output_type": "display_data"
    },
    {
     "data": {
      "application/vnd.jupyter.widget-view+json": {
       "model_id": "149a62eaeeb241be9be047ad8a9a2c87",
       "version_major": 2,
       "version_minor": 0
      },
      "text/plain": [
       "Deltoid:   0%|          | 0/1024 [00:00<?, ?it/s]"
      ]
     },
     "metadata": {},
     "output_type": "display_data"
    },
    {
     "data": {
      "application/vnd.jupyter.widget-view+json": {
       "model_id": "4ce6968efb9645a8a7a76e11a2ded173",
       "version_major": 2,
       "version_minor": 0
      },
      "text/plain": [
       "Heart:   0%|          | 0/1024 [00:00<?, ?it/s]"
      ]
     },
     "metadata": {},
     "output_type": "display_data"
    },
    {
     "data": {
      "application/vnd.jupyter.widget-view+json": {
       "model_id": "6d89ef14fea34e568e213081bb8c7787",
       "version_major": 2,
       "version_minor": 0
      },
      "text/plain": [
       "Butterfly:   0%|          | 0/1024 [00:00<?, ?it/s]"
      ]
     },
     "metadata": {},
     "output_type": "display_data"
    },
    {
     "data": {
      "application/vnd.jupyter.widget-view+json": {
       "model_id": "2ff1b774b0e940d98b3c846d344e4236",
       "version_major": 2,
       "version_minor": 0
      },
      "text/plain": [
       "Batman:   0%|          | 0/1024 [00:00<?, ?it/s]"
      ]
     },
     "metadata": {},
     "output_type": "display_data"
    },
    {
     "data": {
      "application/vnd.jupyter.widget-view+json": {
       "model_id": "2f14a1bbdf7646d68733aa9aa32cbf92",
       "version_major": 2,
       "version_minor": 0
      },
      "text/plain": [
       "Mandelbrot:   0%|          | 0/1024 [00:00<?, ?it/s]"
      ]
     },
     "metadata": {},
     "output_type": "display_data"
    }
   ],
   "source": [
    "N = 1024\n",
    "FREQS = 50\n",
    "x = touhou(N)\n",
    "for wavef, title in wave_funcs:   \n",
    "    y = wavef(N)\n",
    "    c = dtft(x, y)\n",
    "    ix, cidxs = idtft(c, y)\n",
    "    anim = animate_components(ix, y, c, cidxs, FREQS, title=title)\n",
    "    anim.save(f'{VID_DIR}/components={FREQS}_touhou_{title}.mp4')  # Save animation to disk.\n",
    "    # Display animation in notebook. Commented because too many of these animations cause lag\n",
    "#     display(HTML(anim.to_jshtml()))"
   ]
  },
  {
   "cell_type": "code",
   "execution_count": null,
   "id": "4503ca68",
   "metadata": {},
   "outputs": [],
   "source": []
  }
 ],
 "metadata": {
  "kernelspec": {
   "display_name": "Python 3",
   "language": "python",
   "name": "python3"
  },
  "language_info": {
   "codemirror_mode": {
    "name": "ipython",
    "version": 3
   },
   "file_extension": ".py",
   "mimetype": "text/x-python",
   "name": "python",
   "nbconvert_exporter": "python",
   "pygments_lexer": "ipython3",
   "version": "3.8.10"
  }
 },
 "nbformat": 4,
 "nbformat_minor": 5
}
